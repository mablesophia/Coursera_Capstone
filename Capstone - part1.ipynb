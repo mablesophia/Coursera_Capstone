{
 "cells": [
  {
   "cell_type": "markdown",
   "metadata": {},
   "source": [
    "## Applied Data Science Capstone - Final Project\n",
    "\n",
    "### Introduction\n",
    "In this project, we would like investigate which part of Hong Kong is the best place to open a gym & fitness club.\n",
    "\n",
    "Starting a gym business not only could generate income through membership fees, but could also have a chance to transform the lives of numerious people.\n",
    "\n",
    "### Data\n",
    "A csv file contains all the areas located in 18 districts in Hong Kong, with the following columns:\n",
    "- Area\n",
    "- Districts\n",
    "- Sub-Districts (neighborhood)\n",
    "- Rental Value in HKD dollars\n",
    "\n",
    "Using Open Street Map (OSM) - Nominatim to retrieve a specific location's latitude & longitude, with the following columns:\n",
    "- Sub-Districts (neighborhood)\n",
    "- latitude\n",
    "- longitude\n",
    "\n",
    "Using FourSquare to retrieve a specific location's nearby venues, with the following columns:\n",
    "- Neighborhood\n",
    "- Venue's latitude\n",
    "- Venue's longitude\n",
    "- Venue's category\n",
    "\n",
    "### Methodology\n",
    "1. Retrieve data from csv/OSM/FourSquare\n",
    "2. Join different sources of data together, by using common joining key - Sub-Districts (neighborhood)\n",
    "3. Handle with missing data\n",
    "4. Count for each venue's frequency and sort for the top 10 most common venues in each neighborhood\n",
    "5. Calculate the optimal k value for clustering\n",
    "6. Examine each cluster, and come up with our analysis/conclusion"
   ]
  },
  {
   "cell_type": "code",
   "execution_count": null,
   "metadata": {},
   "outputs": [],
   "source": []
  }
 ],
 "metadata": {
  "kernelspec": {
   "display_name": "Python 3",
   "language": "python",
   "name": "python3"
  },
  "language_info": {
   "codemirror_mode": {
    "name": "ipython",
    "version": 3
   },
   "file_extension": ".py",
   "mimetype": "text/x-python",
   "name": "python",
   "nbconvert_exporter": "python",
   "pygments_lexer": "ipython3",
   "version": "3.8.3"
  }
 },
 "nbformat": 4,
 "nbformat_minor": 4
}
